{
 "cells": [
  {
   "cell_type": "markdown",
   "metadata": {},
   "source": [
    "# Retrieving Data from the TataAQ Server\n",
    "\n",
    "Data can be accessed using the API and this (py-tata) python library. It can also be retrieved in many other ways using the API itself; however, that isn't documented yet and probably won't be in the foreseable future.\n",
    "\n",
    "To retrieve data, you must have an API key which can be accessed through your account on the TataAQ website. Here, I will show how to retrieve data for one of the instruments and export it to an external file format (i.e. csv or feather)."
   ]
  },
  {
   "cell_type": "markdown",
   "metadata": {},
   "source": [
    "## Initialize the API Wrapper"
   ]
  },
  {
   "cell_type": "code",
   "execution_count": 1,
   "metadata": {
    "collapsed": false
   },
   "outputs": [
    {
     "name": "stdout",
     "output_type": "stream",
     "text": [
      "200\n"
     ]
    }
   ],
   "source": [
    "import tataaq\n",
    "\n",
    "YOUR_API_KEY_HERE = \"Y4ZCXMT0HETYREWK7LIA3YW6\"\n",
    "\n",
    "api = tataaq.TataAQ(apikey=YOUR_API_KEY_HERE)\n",
    "\n",
    "# Ping the server to see if we have valid auth credentials\n",
    "resp = api.ping()\n",
    "\n",
    "print (resp.status_code)"
   ]
  },
  {
   "cell_type": "markdown",
   "metadata": {},
   "source": [
    "## Import Things\n",
    "\n",
    "We are going to import some other libraries that are handy for working with data"
   ]
  },
  {
   "cell_type": "code",
   "execution_count": 2,
   "metadata": {
    "collapsed": true
   },
   "outputs": [],
   "source": [
    "import pandas as pd\n",
    "import feather"
   ]
  },
  {
   "cell_type": "markdown",
   "metadata": {},
   "source": [
    "## Retrieve Information about a Device\n",
    "\n",
    "To retrieve information about a device, you need to know it's Device ID. This can be found by looking at the website. \n",
    "\n",
    "The `device` API endpoint returns a request object. you can learn more about them by looking at the python requests library. All you really need to know will be shown below.\n",
    "\n",
    "Example: grab information for device_id=\"EBAM001\""
   ]
  },
  {
   "cell_type": "code",
   "execution_count": 3,
   "metadata": {
    "collapsed": true
   },
   "outputs": [],
   "source": [
    "# Request decice information for EBAM001\n",
    "resp = api.device(\"EBAM001\")"
   ]
  },
  {
   "cell_type": "markdown",
   "metadata": {},
   "source": [
    "Access the status of the previous request"
   ]
  },
  {
   "cell_type": "code",
   "execution_count": 4,
   "metadata": {
    "collapsed": false
   },
   "outputs": [
    {
     "data": {
      "text/plain": [
       "200"
      ]
     },
     "execution_count": 4,
     "metadata": {},
     "output_type": "execute_result"
    }
   ],
   "source": [
    "resp.status_code"
   ]
  },
  {
   "cell_type": "markdown",
   "metadata": {},
   "source": [
    "Access the header information"
   ]
  },
  {
   "cell_type": "code",
   "execution_count": 5,
   "metadata": {
    "collapsed": false
   },
   "outputs": [
    {
     "data": {
      "text/plain": [
       "{'Server': 'nginx/1.4.6 (Ubuntu)', 'Date': 'Sun, 26 Mar 2017 17:18:28 GMT', 'Content-Type': 'application/json', 'Content-Length': '358', 'Connection': 'keep-alive', 'ETag': '\"8a01d67b6b8ce76bf0efee3b23fe6f3f\"'}"
      ]
     },
     "execution_count": 5,
     "metadata": {},
     "output_type": "execute_result"
    }
   ],
   "source": [
    "resp.headers"
   ]
  },
  {
   "cell_type": "markdown",
   "metadata": {},
   "source": [
    "Access the json information (data)"
   ]
  },
  {
   "cell_type": "code",
   "execution_count": 6,
   "metadata": {
    "collapsed": false
   },
   "outputs": [
    {
     "data": {
      "text/plain": [
       "{'city': 'Delhi',\n",
       " 'country': 'IN',\n",
       " 'last_updated': '2017-03-26T17:10:31',\n",
       " 'latitude': '28.6257',\n",
       " 'location': 'Connaught Place',\n",
       " 'longitude': '77.2276',\n",
       " 'model': 'E-BAM',\n",
       " 'name': 'E-BAM',\n",
       " 'outdoors': True,\n",
       " 'sn': 'EBAM001',\n",
       " 'timezone': 'Asia/Kolkata',\n",
       " 'url': 'https://tatacenter-airquality.mit.edu/api/v1.0/device/EBAM001'}"
      ]
     },
     "execution_count": 6,
     "metadata": {},
     "output_type": "execute_result"
    }
   ],
   "source": [
    "resp.json()"
   ]
  },
  {
   "cell_type": "markdown",
   "metadata": {},
   "source": [
    "## Retrieve the Actual Data\n",
    "\n",
    "First, we are going to retrieve the data and return in JSON format."
   ]
  },
  {
   "cell_type": "code",
   "execution_count": 7,
   "metadata": {
    "collapsed": true
   },
   "outputs": [],
   "source": [
    "# Request the data\n",
    "resp = api.data(\"EBAM001\")"
   ]
  },
  {
   "cell_type": "code",
   "execution_count": 8,
   "metadata": {
    "collapsed": false
   },
   "outputs": [
    {
     "data": {
      "text/plain": [
       "{'first_url': 'https://tatacenter-airquality.mit.edu/api/v1.0/device/EBAM001/data/?per_page=50&page=1&expand=1',\n",
       " 'last_url': 'https://tatacenter-airquality.mit.edu/api/v1.0/device/EBAM001/data/?per_page=50&page=245&expand=1',\n",
       " 'next_url': 'https://tatacenter-airquality.mit.edu/api/v1.0/device/EBAM001/data/?per_page=50&expand=1&page=2',\n",
       " 'page': 1,\n",
       " 'pages': 245,\n",
       " 'per_page': 50,\n",
       " 'prev_page': None,\n",
       " 'total': 12205}"
      ]
     },
     "execution_count": 8,
     "metadata": {},
     "output_type": "execute_result"
    }
   ],
   "source": [
    "# Print the  meta information\n",
    "resp.json()['meta']"
   ]
  },
  {
   "cell_type": "markdown",
   "metadata": {},
   "source": [
    "We can get the actual data by accesing the \"data\" key in the resp.json() dictionary:"
   ]
  },
  {
   "cell_type": "code",
   "execution_count": 9,
   "metadata": {
    "collapsed": false
   },
   "outputs": [
    {
     "data": {
      "text/plain": [
       "{'alarm': 0,\n",
       " 'ambient temperature': 27.5,\n",
       " 'conc_hr': 0.046,\n",
       " 'conc_rt': 0.077,\n",
       " 'flowrate': 16.7,\n",
       " 'instrument': 'https://tatacenter-airquality.mit.edu/api/v1.0/device/EBAM001',\n",
       " 'parameter': 'pm25',\n",
       " 'rh external': 64.0,\n",
       " 'rh internal': 43.0,\n",
       " 'timestamp': '2016-05-30T02:20:00',\n",
       " 'timestamp_local': '2016-05-30T07:50:00+05:30',\n",
       " 'unit': 'mg/m3',\n",
       " 'wind direction': 36.0,\n",
       " 'wind speed': 2.7}"
      ]
     },
     "execution_count": 9,
     "metadata": {},
     "output_type": "execute_result"
    }
   ],
   "source": [
    "# print the 0 row\n",
    "resp.json()['data'][0]"
   ]
  },
  {
   "cell_type": "markdown",
   "metadata": {},
   "source": [
    "We can also add keywords to our request. The most useful ones are the following:\n",
    "\n",
    "  * `per_page`: alter the number of data points sent per page (default is 50)\n",
    "  * `page`: iterate over all pages\n",
    "  * `filter`: complex keyword that is very powerful. Examples shown below...\n",
    "  \n",
    "  \n",
    "The `filter` keyword allows you to select by any column in the database. The most useful ones are querying over certain points in time. For example, if we wanted to return all data for EBAM001 after 2017-01-01, we would use the filter keyword as follows:\n",
    "\n",
    "    filter=\"timestamp,gt,2017-01-01\"\n",
    "  \n",
    "We can also join multiple filter arguments together by seperating using a semicolon. For example, to return all data during the month of January 2017:\n",
    "\n",
    "    filter=\"timestamp,gt,2017-01-01;timestamp,lt,2017-02-01\"\n",
    "  \n",
    "See below for working examples"
   ]
  },
  {
   "cell_type": "code",
   "execution_count": 10,
   "metadata": {
    "collapsed": false
   },
   "outputs": [
    {
     "data": {
      "text/plain": [
       "{'first_url': 'https://tatacenter-airquality.mit.edu/api/v1.0/device/EBAM001/data/?filter=timestamp%2Cgt%2C2017-01-01&per_page=100&page=1&expand=1',\n",
       " 'last_url': 'https://tatacenter-airquality.mit.edu/api/v1.0/device/EBAM001/data/?filter=timestamp%2Cgt%2C2017-01-01&per_page=100&page=14&expand=1',\n",
       " 'next_url': 'https://tatacenter-airquality.mit.edu/api/v1.0/device/EBAM001/data/?per_page=100&expand=1&page=2',\n",
       " 'page': 1,\n",
       " 'pages': 14,\n",
       " 'per_page': 100,\n",
       " 'prev_page': None,\n",
       " 'total': 1302}"
      ]
     },
     "execution_count": 10,
     "metadata": {},
     "output_type": "execute_result"
    }
   ],
   "source": [
    "# return data after 2017-01-01\n",
    "\n",
    "resp = api.data(\"EBAM001\", per_page=100, filter=\"timestamp,gt,2017-01-01\")\n",
    "\n",
    "resp.json()['meta']"
   ]
  },
  {
   "cell_type": "markdown",
   "metadata": {},
   "source": [
    "## Utilizing the Magical DataFrame\n",
    "\n",
    "We can also retrieve the data and return as a pandas DataFrame, which is way more useful. When you add the `dataframe=True` argument to the request, it will return the meta information as a dictionary, and the data as a pandas DataFrame.\n",
    "\n",
    "Let's see how this works:"
   ]
  },
  {
   "cell_type": "code",
   "execution_count": 11,
   "metadata": {
    "collapsed": false
   },
   "outputs": [
    {
     "data": {
      "text/plain": [
       "{'first_url': 'https://tatacenter-airquality.mit.edu/api/v1.0/device/EBAM001/data/?per_page=50&page=1&expand=1',\n",
       " 'last_url': 'https://tatacenter-airquality.mit.edu/api/v1.0/device/EBAM001/data/?per_page=50&page=245&expand=1',\n",
       " 'next_url': 'https://tatacenter-airquality.mit.edu/api/v1.0/device/EBAM001/data/?per_page=50&expand=1&page=2',\n",
       " 'page': 1,\n",
       " 'pages': 245,\n",
       " 'per_page': 50,\n",
       " 'prev_page': None,\n",
       " 'total': 12205}"
      ]
     },
     "execution_count": 11,
     "metadata": {},
     "output_type": "execute_result"
    }
   ],
   "source": [
    "meta, df = api.data(\"EBAM001\", dataframe=True)\n",
    "\n",
    "meta"
   ]
  },
  {
   "cell_type": "markdown",
   "metadata": {},
   "source": [
    "Let's take a look at our data now:"
   ]
  },
  {
   "cell_type": "code",
   "execution_count": 12,
   "metadata": {
    "collapsed": false
   },
   "outputs": [
    {
     "name": "stdout",
     "output_type": "stream",
     "text": [
      "<class 'pandas.core.frame.DataFrame'>\n",
      "RangeIndex: 50 entries, 0 to 49\n",
      "Data columns (total 14 columns):\n",
      "alarm                  50 non-null int64\n",
      "ambient temperature    50 non-null float64\n",
      "conc_hr                50 non-null float64\n",
      "conc_rt                50 non-null float64\n",
      "flowrate               50 non-null float64\n",
      "instrument             50 non-null object\n",
      "parameter              50 non-null object\n",
      "rh external            50 non-null float64\n",
      "rh internal            50 non-null float64\n",
      "timestamp              50 non-null datetime64[ns]\n",
      "timestamp_local        50 non-null datetime64[ns]\n",
      "unit                   50 non-null object\n",
      "wind direction         50 non-null float64\n",
      "wind speed             50 non-null float64\n",
      "dtypes: datetime64[ns](2), float64(8), int64(1), object(3)\n",
      "memory usage: 5.5+ KB\n"
     ]
    }
   ],
   "source": [
    "df.info()"
   ]
  },
  {
   "cell_type": "markdown",
   "metadata": {},
   "source": [
    "Let's get all data from the EBAM for the year 2017"
   ]
  },
  {
   "cell_type": "code",
   "execution_count": null,
   "metadata": {
    "collapsed": false
   },
   "outputs": [],
   "source": [
    "meta, df = api.data(\"EBAM001\", per_page=10000, filter=\"timestamp,gt,2017-01-01\", dataframe=True)\n",
    "\n",
    "df.index = df['timestamp_local']\n",
    "\n",
    "df.info()"
   ]
  },
  {
   "cell_type": "code",
   "execution_count": null,
   "metadata": {
    "collapsed": false
   },
   "outputs": [],
   "source": [
    "# Delete a couple of columns so we can easily peak at the data\n",
    "\n",
    "del df['instrument']\n",
    "del df['timestamp']\n",
    "\n",
    "df.head()"
   ]
  },
  {
   "cell_type": "markdown",
   "metadata": {},
   "source": [
    "## Export Data\n",
    "\n",
    "Once in a DataFrame, it is super easy to export and save your data. I personally recommend using feather, as it is much faster than anything else, and is language agnostic. There are libraries built for R, Python, and Julia, making it easy to analyze your data in any programming language (OSS only, obviously).\n",
    "\n",
    "To export the dataframe to feather, do the following:"
   ]
  },
  {
   "cell_type": "code",
   "execution_count": null,
   "metadata": {
    "collapsed": false
   },
   "outputs": [],
   "source": [
    "%time feather.write_dataframe(df, \"EBAM001_2017_data.feather\")"
   ]
  },
  {
   "cell_type": "code",
   "execution_count": null,
   "metadata": {
    "collapsed": true
   },
   "outputs": [],
   "source": []
  }
 ],
 "metadata": {
  "kernelspec": {
   "display_name": "Python 3",
   "language": "python",
   "name": "python3"
  },
  "language_info": {
   "codemirror_mode": {
    "name": "ipython",
    "version": 3
   },
   "file_extension": ".py",
   "mimetype": "text/x-python",
   "name": "python",
   "nbconvert_exporter": "python",
   "pygments_lexer": "ipython3",
   "version": "3.6.0"
  }
 },
 "nbformat": 4,
 "nbformat_minor": 2
}
